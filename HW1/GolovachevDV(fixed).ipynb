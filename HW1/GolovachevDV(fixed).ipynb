{
 "cells": [
  {
   "cell_type": "markdown",
   "metadata": {},
   "source": [
    "### HW1 Создание и нормализация базы данных"
   ]
  },
  {
   "cell_type": "markdown",
   "metadata": {},
   "source": [
    "#### Задачи\n",
    "\n",
    "* Продумать структуру БД и отрисовать в редакторе;\n",
    "* Нормализовать БД (1НФ-3НФ), описав, к какой нормальной форме приводится таблица и почему таблица в этой нормальной форме изначально не находилась;\n",
    "* Создать все таблицы в DBeaver, указав первичные ключи к таблицам, правильные типы данных, могут ли поля быть пустыми или нет;\n",
    "* Загрузить данные в таблицы в соответствии с созданной структурой."
   ]
  },
  {
   "cell_type": "markdown",
   "metadata": {},
   "source": [
    "#### Решение"
   ]
  },
  {
   "cell_type": "markdown",
   "metadata": {},
   "source": [
    "### Проанализируем исходный датасет\n",
    "\n",
    "Исходный датасет представлени в виде документа в формате .xlsx, в котором содержится две таблицы: 'transaction' и 'customer', следующего вида:"
   ]
  },
  {
   "cell_type": "markdown",
   "metadata": {},
   "source": [
    "transaction:\n",
    "\n",
    "![transaction](https://github.com/DmitriiGolovachev/DB_HW/blob/master/HW1/static/customer.png)"
   ]
  },
  {
   "cell_type": "code",
   "execution_count": null,
   "metadata": {
    "vscode": {
     "languageId": "plaintext"
    }
   },
   "outputs": [],
   "source": []
  }
 ],
 "metadata": {
  "language_info": {
   "name": "python"
  }
 },
 "nbformat": 4,
 "nbformat_minor": 2
}
